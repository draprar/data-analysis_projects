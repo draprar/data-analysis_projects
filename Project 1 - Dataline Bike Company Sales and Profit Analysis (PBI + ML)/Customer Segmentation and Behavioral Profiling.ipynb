{
 "cells": [
  {
   "cell_type": "markdown",
   "id": "d62344d2-9e64-4bea-901c-e1182f4bf421",
   "metadata": {},
   "source": [
    "# 🧠 Customer Segmentation and Behavioral Profiling"
   ]
  },
  {
   "cell_type": "code",
   "execution_count": 1,
   "id": "15aea8c4-4860-4b28-8bfc-427a47185802",
   "metadata": {},
   "outputs": [],
   "source": [
    "import pandas as pd\n",
    "import matplotlib.pyplot as plt\n",
    "import seaborn as sns\n",
    "\n",
    "from sklearn.preprocessing import StandardScaler\n",
    "from sklearn.cluster import KMeans"
   ]
  },
  {
   "cell_type": "markdown",
   "id": "d8d30110-b9db-42d3-ad7f-e874fe00c368",
   "metadata": {},
   "source": [
    "### Load and clean data"
   ]
  },
  {
   "cell_type": "code",
   "execution_count": 2,
   "id": "fbf80059-f56b-4829-a5a3-c685fd477aeb",
   "metadata": {},
   "outputs": [],
   "source": [
    "df = pd.read_csv(\"data/sales.csv\", sep=';', encoding='utf-8')\n",
    "df['OrderDate'] = pd.to_datetime(df['OrderDateKey'], format='%Y%m%d')\n",
    "df['Unit Price'] = df['Unit Price'].str.replace(',', '.').astype(float)\n",
    "df['Product Standard Cost'] = df['Product Standard Cost'].str.replace(',', '.').astype(float)\n",
    "\n",
    "# Keep only retail customers\n",
    "df = df[df['CustomerKey'] != -1]\n",
    "\n",
    "# Filter for valid rows\n",
    "df = df[(df['Order Quantity'] > 0) & (df['Unit Price'] > 0) & (df['Product Standard Cost'] >= 0)]\n",
    "\n",
    "# Drop unused columns\n",
    "df.drop(columns=[\n",
    "    'ResellerKey', 'ProductKey', 'OrderDateKey', 'Unit Price Discount Pct',\n",
    "    'Customer Key', 'FullName', 'SalesOrderLineKey'\n",
    "], inplace=True)"
   ]
  },
  {
   "cell_type": "markdown",
   "id": "a1c17605-adb0-4fde-99eb-21dff1051a0d",
   "metadata": {},
   "source": [
    "## Feature engineering"
   ]
  },
  {
   "cell_type": "code",
   "execution_count": 3,
   "id": "9080bc17-ee6b-4685-9c9f-ad4684a2baa3",
   "metadata": {},
   "outputs": [],
   "source": [
    "df['Revenue'] = df['Unit Price'] # 'Order Quantity' == 1 for all records\n",
    "df['Profit'] = df['Revenue'] - df['Product Standard Cost']\n",
    "customer_age = df.groupby('CustomerKey').agg(\n",
    "    First=('OrderDate', 'min'),\n",
    "    Last=('OrderDate', 'max')\n",
    ")\n",
    "customer_age['CustomerAgeDays'] = (customer_age['Last'] - customer_age['First']).dt.days + 1"
   ]
  },
  {
   "cell_type": "markdown",
   "id": "7d070e04-6162-49f5-a06f-d9d9d95e1fd5",
   "metadata": {},
   "source": [
    "## Client-level aggregation"
   ]
  },
  {
   "cell_type": "code",
   "execution_count": 4,
   "id": "9839b58a-5be3-45ab-86c3-d9fd8016633b",
   "metadata": {},
   "outputs": [],
   "source": [
    "agg = df.groupby('CustomerKey').agg({\n",
    "    'Revenue': 'sum',\n",
    "    'Profit': 'sum',\n",
    "    'OrderDate': 'count'\n",
    "}).rename(columns={'OrderDate': 'OrderCount'})\n",
    "\n",
    "agg = agg.merge(customer_age[['CustomerAgeDays']], left_index=True, right_index=True)\n",
    "\n",
    "agg['AvgOrderValue'] = agg['Revenue'] / agg['OrderCount']\n",
    "agg['ProfitMargin'] = agg['Profit'] / agg['Revenue']\n",
    "\n",
    "agg = agg[agg['Revenue'] > 0].dropna() # Possible deletion of empty and worthless records"
   ]
  },
  {
   "cell_type": "code",
   "execution_count": 5,
   "id": "35486b5e-7d15-42e3-87d6-3a44bbd94a09",
   "metadata": {},
   "outputs": [
    {
     "data": {
      "text/html": [
       "<div>\n",
       "<style scoped>\n",
       "    .dataframe tbody tr th:only-of-type {\n",
       "        vertical-align: middle;\n",
       "    }\n",
       "\n",
       "    .dataframe tbody tr th {\n",
       "        vertical-align: top;\n",
       "    }\n",
       "\n",
       "    .dataframe thead th {\n",
       "        text-align: right;\n",
       "    }\n",
       "</style>\n",
       "<table border=\"1\" class=\"dataframe\">\n",
       "  <thead>\n",
       "    <tr style=\"text-align: right;\">\n",
       "      <th></th>\n",
       "      <th>Revenue</th>\n",
       "      <th>Profit</th>\n",
       "      <th>OrderCount</th>\n",
       "      <th>CustomerAgeDays</th>\n",
       "      <th>AvgOrderValue</th>\n",
       "      <th>ProfitMargin</th>\n",
       "    </tr>\n",
       "    <tr>\n",
       "      <th>CustomerKey</th>\n",
       "      <th></th>\n",
       "      <th></th>\n",
       "      <th></th>\n",
       "      <th></th>\n",
       "      <th></th>\n",
       "      <th></th>\n",
       "    </tr>\n",
       "  </thead>\n",
       "  <tbody>\n",
       "    <tr>\n",
       "      <th>11000</th>\n",
       "      <td>8248.99</td>\n",
       "      <td>3513.6905</td>\n",
       "      <td>8</td>\n",
       "      <td>815</td>\n",
       "      <td>1031.123750</td>\n",
       "      <td>0.425954</td>\n",
       "    </tr>\n",
       "    <tr>\n",
       "      <th>11001</th>\n",
       "      <td>6383.88</td>\n",
       "      <td>2795.8839</td>\n",
       "      <td>11</td>\n",
       "      <td>1039</td>\n",
       "      <td>580.352727</td>\n",
       "      <td>0.437960</td>\n",
       "    </tr>\n",
       "    <tr>\n",
       "      <th>11002</th>\n",
       "      <td>8114.04</td>\n",
       "      <td>3454.8801</td>\n",
       "      <td>4</td>\n",
       "      <td>753</td>\n",
       "      <td>2028.510000</td>\n",
       "      <td>0.425790</td>\n",
       "    </tr>\n",
       "    <tr>\n",
       "      <th>11003</th>\n",
       "      <td>8139.29</td>\n",
       "      <td>3467.1264</td>\n",
       "      <td>9</td>\n",
       "      <td>833</td>\n",
       "      <td>904.365556</td>\n",
       "      <td>0.425974</td>\n",
       "    </tr>\n",
       "    <tr>\n",
       "      <th>11004</th>\n",
       "      <td>8196.01</td>\n",
       "      <td>3501.9051</td>\n",
       "      <td>6</td>\n",
       "      <td>811</td>\n",
       "      <td>1366.001667</td>\n",
       "      <td>0.427270</td>\n",
       "    </tr>\n",
       "  </tbody>\n",
       "</table>\n",
       "</div>"
      ],
      "text/plain": [
       "             Revenue     Profit  OrderCount  CustomerAgeDays  AvgOrderValue  \\\n",
       "CustomerKey                                                                   \n",
       "11000        8248.99  3513.6905           8              815    1031.123750   \n",
       "11001        6383.88  2795.8839          11             1039     580.352727   \n",
       "11002        8114.04  3454.8801           4              753    2028.510000   \n",
       "11003        8139.29  3467.1264           9              833     904.365556   \n",
       "11004        8196.01  3501.9051           6              811    1366.001667   \n",
       "\n",
       "             ProfitMargin  \n",
       "CustomerKey                \n",
       "11000            0.425954  \n",
       "11001            0.437960  \n",
       "11002            0.425790  \n",
       "11003            0.425974  \n",
       "11004            0.427270  "
      ]
     },
     "execution_count": 5,
     "metadata": {},
     "output_type": "execute_result"
    }
   ],
   "source": [
    "agg.head()"
   ]
  },
  {
   "cell_type": "markdown",
   "id": "8741d6fe-3679-4131-973a-cbe46de72a5f",
   "metadata": {},
   "source": [
    "## Customer clustering (KMeans)"
   ]
  },
  {
   "cell_type": "code",
   "execution_count": 6,
   "id": "aa6dbab5-168c-4fe9-aebd-c6721f3294a2",
   "metadata": {},
   "outputs": [],
   "source": [
    "features = ['Revenue', 'Profit', 'AvgOrderValue', 'ProfitMargin', 'CustomerAgeDays']\n",
    "X_seg = agg[features].fillna(0)\n",
    "\n",
    "scaler = StandardScaler()\n",
    "X_scaled = scaler.fit_transform(X_seg)\n",
    "\n",
    "kmeans = KMeans(n_clusters=4, random_state=42)\n",
    "agg['Cluster'] = kmeans.fit_predict(X_scaled)"
   ]
  },
  {
   "cell_type": "markdown",
   "id": "99c2615e-f2da-4754-8bf5-408c2b75458b",
   "metadata": {},
   "source": [
    "## Interpretation of results"
   ]
  },
  {
   "cell_type": "code",
   "execution_count": 7,
   "id": "6902d808-b936-4747-a541-03d5f7b3c4d7",
   "metadata": {},
   "outputs": [
    {
     "data": {
      "text/html": [
       "<div>\n",
       "<style scoped>\n",
       "    .dataframe tbody tr th:only-of-type {\n",
       "        vertical-align: middle;\n",
       "    }\n",
       "\n",
       "    .dataframe tbody tr th {\n",
       "        vertical-align: top;\n",
       "    }\n",
       "\n",
       "    .dataframe thead th {\n",
       "        text-align: right;\n",
       "    }\n",
       "</style>\n",
       "<table border=\"1\" class=\"dataframe\">\n",
       "  <thead>\n",
       "    <tr style=\"text-align: right;\">\n",
       "      <th></th>\n",
       "      <th>Revenue</th>\n",
       "      <th>Profit</th>\n",
       "      <th>AvgOrderValue</th>\n",
       "      <th>ProfitMargin</th>\n",
       "      <th>CustomerAgeDays</th>\n",
       "    </tr>\n",
       "    <tr>\n",
       "      <th>Cluster</th>\n",
       "      <th></th>\n",
       "      <th></th>\n",
       "      <th></th>\n",
       "      <th></th>\n",
       "      <th></th>\n",
       "    </tr>\n",
       "  </thead>\n",
       "  <tbody>\n",
       "    <tr>\n",
       "      <th>0</th>\n",
       "      <td>5870.658669</td>\n",
       "      <td>2414.911459</td>\n",
       "      <td>1377.978133</td>\n",
       "      <td>0.410663</td>\n",
       "      <td>657.978503</td>\n",
       "    </tr>\n",
       "    <tr>\n",
       "      <th>1</th>\n",
       "      <td>62.676634</td>\n",
       "      <td>38.168033</td>\n",
       "      <td>21.402221</td>\n",
       "      <td>0.619292</td>\n",
       "      <td>27.293152</td>\n",
       "    </tr>\n",
       "    <tr>\n",
       "      <th>2</th>\n",
       "      <td>2973.785706</td>\n",
       "      <td>1226.022078</td>\n",
       "      <td>1247.953995</td>\n",
       "      <td>0.411689</td>\n",
       "      <td>282.316642</td>\n",
       "    </tr>\n",
       "    <tr>\n",
       "      <th>3</th>\n",
       "      <td>833.256776</td>\n",
       "      <td>321.864902</td>\n",
       "      <td>312.025869</td>\n",
       "      <td>0.385873</td>\n",
       "      <td>20.345255</td>\n",
       "    </tr>\n",
       "  </tbody>\n",
       "</table>\n",
       "</div>"
      ],
      "text/plain": [
       "             Revenue       Profit  AvgOrderValue  ProfitMargin  \\\n",
       "Cluster                                                          \n",
       "0        5870.658669  2414.911459    1377.978133      0.410663   \n",
       "1          62.676634    38.168033      21.402221      0.619292   \n",
       "2        2973.785706  1226.022078    1247.953995      0.411689   \n",
       "3         833.256776   321.864902     312.025869      0.385873   \n",
       "\n",
       "         CustomerAgeDays  \n",
       "Cluster                   \n",
       "0             657.978503  \n",
       "1              27.293152  \n",
       "2             282.316642  \n",
       "3              20.345255  "
      ]
     },
     "execution_count": 7,
     "metadata": {},
     "output_type": "execute_result"
    }
   ],
   "source": [
    "agg.groupby('Cluster')[features].mean()"
   ]
  },
  {
   "cell_type": "markdown",
   "id": "0d9f9a69-1b08-4255-b3af-b6beed67d96f",
   "metadata": {},
   "source": [
    "### Mapping labels to clusters"
   ]
  },
  {
   "cell_type": "code",
   "execution_count": 8,
   "id": "e31a0dd4-710a-4aed-8da3-3b9d03a72951",
   "metadata": {},
   "outputs": [],
   "source": [
    "cluster_labels = {\n",
    "    0: \"Loyal High-Spenders\", # long with us, solid orders\n",
    "    1: \"High-Margin One-Timers\", # disappearing quickly, but very profitable\n",
    "    2: \"Mid-Term Key Accounts\", # valuable, but shorter with us\n",
    "    3: \"Low-Value Shoppers\" # cheap, short, weak\n",
    "}\n",
    "\n",
    "agg['Segment'] = agg['Cluster'].map(cluster_labels)"
   ]
  },
  {
   "cell_type": "markdown",
   "id": "9d9752fd-52ac-41e6-91b1-77857e5b5634",
   "metadata": {},
   "source": [
    "### Cluster Visualization"
   ]
  },
  {
   "cell_type": "code",
   "execution_count": 9,
   "id": "3fb28075-5cb5-4a39-8d6a-7a4450913c31",
   "metadata": {},
   "outputs": [
    {
     "data": {
      "image/png": "[encoded data removed]",
      "text/plain": [
       "<Figure size 640x480 with 1 Axes>"
      ]
     },
     "metadata": {},
     "output_type": "display_data"
    }
   ],
   "source": [
    "sns.scatterplot(data=agg, x='Revenue', y='Profit', hue='Segment', palette='tab10')\n",
    "plt.title(\"Customer segmentation by Revenue and Profit\")\n",
    "plt.xlabel(\"Total Revenue\")\n",
    "plt.ylabel(\"Total Profit\")\n",
    "plt.show()"
   ]
  },
  {
   "cell_type": "markdown",
   "id": "8863d2b2-66ca-436b-b052-598222a88122",
   "metadata": {},
   "source": [
    "## Export Segment Data"
   ]
  },
  {
   "cell_type": "code",
   "execution_count": 10,
   "id": "aef959d0-1f5f-4754-8eac-1d2eeea83496",
   "metadata": {},
   "outputs": [],
   "source": [
    "agg.reset_index().to_csv(\"data/customer_segments.csv\", index=False)\n",
    "agg.groupby('Segment')[features].mean().to_csv(\"data/segment_profiles.csv\")"
   ]
  },
  {
   "cell_type": "code",
   "execution_count": null,
   "id": "0aa8c07f-45c7-422a-bcd7-69aeb146cc59",
   "metadata": {},
   "outputs": [],
   "source": []
  }
 ],
 "metadata": {
  "kernelspec": {
   "display_name": "Python 3 (ipykernel)",
   "language": "python",
   "name": "python3"
  },
  "language_info": {
   "codemirror_mode": {
    "name": "ipython",
    "version": 3
   },
   "file_extension": ".py",
   "mimetype": "text/x-python",
   "name": "python",
   "nbconvert_exporter": "python",
   "pygments_lexer": "ipython3",
   "version": "3.12.8"
  }
 },
 "nbformat": 4,
 "nbformat_minor": 5
}
